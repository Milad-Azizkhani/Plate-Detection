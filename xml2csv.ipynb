{
  "nbformat": 4,
  "nbformat_minor": 0,
  "metadata": {
    "colab": {
      "provenance": []
    },
    "kernelspec": {
      "name": "python3",
      "display_name": "Python 3"
    },
    "language_info": {
      "name": "python"
    }
  },
  "cells": [
    {
      "cell_type": "code",
      "execution_count": 1,
      "metadata": {
        "id": "koq8LJVmTNSl"
      },
      "outputs": [],
      "source": [
        "import pandas as pd\n",
        "import xml.etree.ElementTree as xet"
      ]
    },
    {
      "cell_type": "code",
      "source": [
        "from glob import glob"
      ],
      "metadata": {
        "id": "aIn2GyzNTfGR"
      },
      "execution_count": 2,
      "outputs": []
    },
    {
      "cell_type": "code",
      "source": [
        "from google.colab import drive\n",
        "drive.mount('/content/drive')"
      ],
      "metadata": {
        "colab": {
          "base_uri": "https://localhost:8080/"
        },
        "id": "FYYhuIKQcKnv",
        "outputId": "64336c29-00f6-41bf-b54b-5840068677f2"
      },
      "execution_count": 4,
      "outputs": [
        {
          "output_type": "stream",
          "name": "stdout",
          "text": [
            "Mounted at /content/drive\n"
          ]
        }
      ]
    },
    {
      "cell_type": "code",
      "source": [
        "import zipfile\n",
        "with zipfile.ZipFile(\"/content/drive/MyDrive/data-test/005 images-labeled.zip\", \"r\") as zip_refer:\n",
        "  zip_refer.extractall(\"/content/drive/MyDrive/data-test/\")\n"
      ],
      "metadata": {
        "id": "8r08M3kdeDtg"
      },
      "execution_count": null,
      "outputs": []
    },
    {
      "cell_type": "code",
      "source": [
        "files = glob(\"/content/drive/MyDrive/data-test/images_labeled/*.xml\")\n",
        "print(files)"
      ],
      "metadata": {
        "colab": {
          "base_uri": "https://localhost:8080/"
        },
        "id": "DCksGek7fERP",
        "outputId": "7b0bb142-bd7f-41a8-bd13-368173dc0738"
      },
      "execution_count": 5,
      "outputs": [
        {
          "output_type": "stream",
          "name": "stdout",
          "text": [
            "['/content/drive/MyDrive/data-test/images_labeled/N1.xml', '/content/drive/MyDrive/data-test/images_labeled/N100.xml', '/content/drive/MyDrive/data-test/images_labeled/N101.xml', '/content/drive/MyDrive/data-test/images_labeled/N102.xml', '/content/drive/MyDrive/data-test/images_labeled/N103.xml', '/content/drive/MyDrive/data-test/images_labeled/N104.xml', '/content/drive/MyDrive/data-test/images_labeled/N105.xml', '/content/drive/MyDrive/data-test/images_labeled/N106.xml', '/content/drive/MyDrive/data-test/images_labeled/N107.xml', '/content/drive/MyDrive/data-test/images_labeled/N108.xml', '/content/drive/MyDrive/data-test/images_labeled/N109.xml', '/content/drive/MyDrive/data-test/images_labeled/N11.xml', '/content/drive/MyDrive/data-test/images_labeled/N110.xml', '/content/drive/MyDrive/data-test/images_labeled/N111.xml', '/content/drive/MyDrive/data-test/images_labeled/N112.xml', '/content/drive/MyDrive/data-test/images_labeled/N113.xml', '/content/drive/MyDrive/data-test/images_labeled/N114.xml', '/content/drive/MyDrive/data-test/images_labeled/N116.xml', '/content/drive/MyDrive/data-test/images_labeled/N117.xml', '/content/drive/MyDrive/data-test/images_labeled/N118.xml', '/content/drive/MyDrive/data-test/images_labeled/N119.xml', '/content/drive/MyDrive/data-test/images_labeled/N12.xml', '/content/drive/MyDrive/data-test/images_labeled/N120.xml', '/content/drive/MyDrive/data-test/images_labeled/N121.xml', '/content/drive/MyDrive/data-test/images_labeled/N122.xml', '/content/drive/MyDrive/data-test/images_labeled/N123.xml', '/content/drive/MyDrive/data-test/images_labeled/N124.xml', '/content/drive/MyDrive/data-test/images_labeled/N126.xml', '/content/drive/MyDrive/data-test/images_labeled/N127.xml', '/content/drive/MyDrive/data-test/images_labeled/N128.xml', '/content/drive/MyDrive/data-test/images_labeled/N129.xml', '/content/drive/MyDrive/data-test/images_labeled/N130.xml', '/content/drive/MyDrive/data-test/images_labeled/N131.xml', '/content/drive/MyDrive/data-test/images_labeled/N132.xml', '/content/drive/MyDrive/data-test/images_labeled/N133.xml', '/content/drive/MyDrive/data-test/images_labeled/N134.xml', '/content/drive/MyDrive/data-test/images_labeled/N135.xml', '/content/drive/MyDrive/data-test/images_labeled/N136.xml', '/content/drive/MyDrive/data-test/images_labeled/N137.xml', '/content/drive/MyDrive/data-test/images_labeled/N138.xml', '/content/drive/MyDrive/data-test/images_labeled/N139.xml', '/content/drive/MyDrive/data-test/images_labeled/N14.xml', '/content/drive/MyDrive/data-test/images_labeled/N140.xml', '/content/drive/MyDrive/data-test/images_labeled/N141.xml', '/content/drive/MyDrive/data-test/images_labeled/N142.xml', '/content/drive/MyDrive/data-test/images_labeled/N143.xml', '/content/drive/MyDrive/data-test/images_labeled/N144.xml', '/content/drive/MyDrive/data-test/images_labeled/N145.xml', '/content/drive/MyDrive/data-test/images_labeled/N147.xml', '/content/drive/MyDrive/data-test/images_labeled/N148.xml', '/content/drive/MyDrive/data-test/images_labeled/N149.xml', '/content/drive/MyDrive/data-test/images_labeled/N15.xml', '/content/drive/MyDrive/data-test/images_labeled/N150.xml', '/content/drive/MyDrive/data-test/images_labeled/N151.xml', '/content/drive/MyDrive/data-test/images_labeled/N152.xml', '/content/drive/MyDrive/data-test/images_labeled/N153.xml', '/content/drive/MyDrive/data-test/images_labeled/N154.xml', '/content/drive/MyDrive/data-test/images_labeled/N155.xml', '/content/drive/MyDrive/data-test/images_labeled/N156.xml', '/content/drive/MyDrive/data-test/images_labeled/N158.xml', '/content/drive/MyDrive/data-test/images_labeled/N16.xml', '/content/drive/MyDrive/data-test/images_labeled/N160.xml', '/content/drive/MyDrive/data-test/images_labeled/N162.xml', '/content/drive/MyDrive/data-test/images_labeled/N163.xml', '/content/drive/MyDrive/data-test/images_labeled/N164.xml', '/content/drive/MyDrive/data-test/images_labeled/N165.xml', '/content/drive/MyDrive/data-test/images_labeled/N166.xml', '/content/drive/MyDrive/data-test/images_labeled/N167.xml', '/content/drive/MyDrive/data-test/images_labeled/N168.xml', '/content/drive/MyDrive/data-test/images_labeled/N169.xml', '/content/drive/MyDrive/data-test/images_labeled/N17.xml', '/content/drive/MyDrive/data-test/images_labeled/N170.xml', '/content/drive/MyDrive/data-test/images_labeled/N171.xml', '/content/drive/MyDrive/data-test/images_labeled/N172.xml', '/content/drive/MyDrive/data-test/images_labeled/N173.xml', '/content/drive/MyDrive/data-test/images_labeled/N174.xml', '/content/drive/MyDrive/data-test/images_labeled/N175.xml', '/content/drive/MyDrive/data-test/images_labeled/N176.xml', '/content/drive/MyDrive/data-test/images_labeled/N177.xml', '/content/drive/MyDrive/data-test/images_labeled/N178.xml', '/content/drive/MyDrive/data-test/images_labeled/N179.xml', '/content/drive/MyDrive/data-test/images_labeled/N18.xml', '/content/drive/MyDrive/data-test/images_labeled/N181.xml', '/content/drive/MyDrive/data-test/images_labeled/N183.xml', '/content/drive/MyDrive/data-test/images_labeled/N184.xml', '/content/drive/MyDrive/data-test/images_labeled/N185.xml', '/content/drive/MyDrive/data-test/images_labeled/N186.xml', '/content/drive/MyDrive/data-test/images_labeled/N187.xml', '/content/drive/MyDrive/data-test/images_labeled/N188.xml', '/content/drive/MyDrive/data-test/images_labeled/N189.xml', '/content/drive/MyDrive/data-test/images_labeled/N19.xml', '/content/drive/MyDrive/data-test/images_labeled/N190.xml', '/content/drive/MyDrive/data-test/images_labeled/N191.xml', '/content/drive/MyDrive/data-test/images_labeled/N192.xml', '/content/drive/MyDrive/data-test/images_labeled/N193.xml', '/content/drive/MyDrive/data-test/images_labeled/N195.xml', '/content/drive/MyDrive/data-test/images_labeled/N196.xml', '/content/drive/MyDrive/data-test/images_labeled/N197.xml', '/content/drive/MyDrive/data-test/images_labeled/N198.xml', '/content/drive/MyDrive/data-test/images_labeled/N199.xml', '/content/drive/MyDrive/data-test/images_labeled/N2.xml', '/content/drive/MyDrive/data-test/images_labeled/N20.xml', '/content/drive/MyDrive/data-test/images_labeled/N200.xml', '/content/drive/MyDrive/data-test/images_labeled/N201.xml', '/content/drive/MyDrive/data-test/images_labeled/N202.xml', '/content/drive/MyDrive/data-test/images_labeled/N203.xml', '/content/drive/MyDrive/data-test/images_labeled/N204.xml', '/content/drive/MyDrive/data-test/images_labeled/N205.xml', '/content/drive/MyDrive/data-test/images_labeled/N206.xml', '/content/drive/MyDrive/data-test/images_labeled/N207.xml', '/content/drive/MyDrive/data-test/images_labeled/N208.xml', '/content/drive/MyDrive/data-test/images_labeled/N209.xml', '/content/drive/MyDrive/data-test/images_labeled/N21.xml', '/content/drive/MyDrive/data-test/images_labeled/N210.xml', '/content/drive/MyDrive/data-test/images_labeled/N211.xml', '/content/drive/MyDrive/data-test/images_labeled/N212.xml', '/content/drive/MyDrive/data-test/images_labeled/N213.xml', '/content/drive/MyDrive/data-test/images_labeled/N214.xml', '/content/drive/MyDrive/data-test/images_labeled/N215.xml', '/content/drive/MyDrive/data-test/images_labeled/N216.xml', '/content/drive/MyDrive/data-test/images_labeled/N217.xml', '/content/drive/MyDrive/data-test/images_labeled/N218.xml', '/content/drive/MyDrive/data-test/images_labeled/N219.xml', '/content/drive/MyDrive/data-test/images_labeled/N22.xml', '/content/drive/MyDrive/data-test/images_labeled/N220.xml', '/content/drive/MyDrive/data-test/images_labeled/N221.xml', '/content/drive/MyDrive/data-test/images_labeled/N222.xml', '/content/drive/MyDrive/data-test/images_labeled/N223.xml', '/content/drive/MyDrive/data-test/images_labeled/N224.xml', '/content/drive/MyDrive/data-test/images_labeled/N225.xml', '/content/drive/MyDrive/data-test/images_labeled/N226.xml', '/content/drive/MyDrive/data-test/images_labeled/N227.xml', '/content/drive/MyDrive/data-test/images_labeled/N229.xml', '/content/drive/MyDrive/data-test/images_labeled/N23.xml', '/content/drive/MyDrive/data-test/images_labeled/N230.xml', '/content/drive/MyDrive/data-test/images_labeled/N231.xml', '/content/drive/MyDrive/data-test/images_labeled/N232.xml', '/content/drive/MyDrive/data-test/images_labeled/N233.xml', '/content/drive/MyDrive/data-test/images_labeled/N234.xml', '/content/drive/MyDrive/data-test/images_labeled/N235.xml', '/content/drive/MyDrive/data-test/images_labeled/N236.xml', '/content/drive/MyDrive/data-test/images_labeled/N237.xml', '/content/drive/MyDrive/data-test/images_labeled/N238.xml', '/content/drive/MyDrive/data-test/images_labeled/N239.xml', '/content/drive/MyDrive/data-test/images_labeled/N24.xml', '/content/drive/MyDrive/data-test/images_labeled/N240.xml', '/content/drive/MyDrive/data-test/images_labeled/N241.xml', '/content/drive/MyDrive/data-test/images_labeled/N242.xml', '/content/drive/MyDrive/data-test/images_labeled/N244.xml', '/content/drive/MyDrive/data-test/images_labeled/N245.xml', '/content/drive/MyDrive/data-test/images_labeled/N246.xml', '/content/drive/MyDrive/data-test/images_labeled/N247.xml', '/content/drive/MyDrive/data-test/images_labeled/N248.xml', '/content/drive/MyDrive/data-test/images_labeled/N25.xml', '/content/drive/MyDrive/data-test/images_labeled/N27.xml', '/content/drive/MyDrive/data-test/images_labeled/N28.xml', '/content/drive/MyDrive/data-test/images_labeled/N3.xml', '/content/drive/MyDrive/data-test/images_labeled/N30.xml', '/content/drive/MyDrive/data-test/images_labeled/N31.xml', '/content/drive/MyDrive/data-test/images_labeled/N32.xml', '/content/drive/MyDrive/data-test/images_labeled/N33.xml', '/content/drive/MyDrive/data-test/images_labeled/N34.xml', '/content/drive/MyDrive/data-test/images_labeled/N35.xml', '/content/drive/MyDrive/data-test/images_labeled/N36.xml', '/content/drive/MyDrive/data-test/images_labeled/N37.xml', '/content/drive/MyDrive/data-test/images_labeled/N38.xml', '/content/drive/MyDrive/data-test/images_labeled/N4.xml', '/content/drive/MyDrive/data-test/images_labeled/N40.xml', '/content/drive/MyDrive/data-test/images_labeled/N42.xml', '/content/drive/MyDrive/data-test/images_labeled/N43.xml', '/content/drive/MyDrive/data-test/images_labeled/N44.xml', '/content/drive/MyDrive/data-test/images_labeled/N45.xml', '/content/drive/MyDrive/data-test/images_labeled/N46.xml', '/content/drive/MyDrive/data-test/images_labeled/N47.xml', '/content/drive/MyDrive/data-test/images_labeled/N48.xml', '/content/drive/MyDrive/data-test/images_labeled/N49.xml', '/content/drive/MyDrive/data-test/images_labeled/N5.xml', '/content/drive/MyDrive/data-test/images_labeled/N50.xml', '/content/drive/MyDrive/data-test/images_labeled/N51.xml', '/content/drive/MyDrive/data-test/images_labeled/N52.xml', '/content/drive/MyDrive/data-test/images_labeled/N53.xml', '/content/drive/MyDrive/data-test/images_labeled/N54.xml', '/content/drive/MyDrive/data-test/images_labeled/N56.xml', '/content/drive/MyDrive/data-test/images_labeled/N57.xml', '/content/drive/MyDrive/data-test/images_labeled/N58.xml', '/content/drive/MyDrive/data-test/images_labeled/N59.xml', '/content/drive/MyDrive/data-test/images_labeled/N6.xml', '/content/drive/MyDrive/data-test/images_labeled/N61.xml', '/content/drive/MyDrive/data-test/images_labeled/N62.xml', '/content/drive/MyDrive/data-test/images_labeled/N63.xml', '/content/drive/MyDrive/data-test/images_labeled/N64.xml', '/content/drive/MyDrive/data-test/images_labeled/N65.xml', '/content/drive/MyDrive/data-test/images_labeled/N66.xml', '/content/drive/MyDrive/data-test/images_labeled/N67.xml', '/content/drive/MyDrive/data-test/images_labeled/N68.xml', '/content/drive/MyDrive/data-test/images_labeled/N69.xml', '/content/drive/MyDrive/data-test/images_labeled/N7.xml', '/content/drive/MyDrive/data-test/images_labeled/N70.xml', '/content/drive/MyDrive/data-test/images_labeled/N72.xml', '/content/drive/MyDrive/data-test/images_labeled/N73.xml', '/content/drive/MyDrive/data-test/images_labeled/N74.xml', '/content/drive/MyDrive/data-test/images_labeled/N75.xml', '/content/drive/MyDrive/data-test/images_labeled/N77.xml', '/content/drive/MyDrive/data-test/images_labeled/N78.xml', '/content/drive/MyDrive/data-test/images_labeled/N79.xml', '/content/drive/MyDrive/data-test/images_labeled/N8.xml', '/content/drive/MyDrive/data-test/images_labeled/N80.xml', '/content/drive/MyDrive/data-test/images_labeled/N81.xml', '/content/drive/MyDrive/data-test/images_labeled/N82.xml', '/content/drive/MyDrive/data-test/images_labeled/N84.xml', '/content/drive/MyDrive/data-test/images_labeled/N85.xml', '/content/drive/MyDrive/data-test/images_labeled/N86.xml', '/content/drive/MyDrive/data-test/images_labeled/N88.xml', '/content/drive/MyDrive/data-test/images_labeled/N89.xml', '/content/drive/MyDrive/data-test/images_labeled/N9.xml', '/content/drive/MyDrive/data-test/images_labeled/N90.xml', '/content/drive/MyDrive/data-test/images_labeled/N91.xml', '/content/drive/MyDrive/data-test/images_labeled/N92.xml', '/content/drive/MyDrive/data-test/images_labeled/N93.xml', '/content/drive/MyDrive/data-test/images_labeled/N94.xml', '/content/drive/MyDrive/data-test/images_labeled/N95.xml', '/content/drive/MyDrive/data-test/images_labeled/N96.xml', '/content/drive/MyDrive/data-test/images_labeled/N97.xml', '/content/drive/MyDrive/data-test/images_labeled/N98.xml', '/content/drive/MyDrive/data-test/images_labeled/N99.xml']\n"
          ]
        }
      ]
    },
    {
      "cell_type": "markdown",
      "source": [
        "![image.png](data:image/png;base64,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)"
      ],
      "metadata": {
        "id": "8hIWOqbDg6Tn"
      }
    },
    {
      "cell_type": "markdown",
      "source": [
        "tab ---> space\n",
        "\n",
        "shift+tab ---> back space"
      ],
      "metadata": {
        "id": "ywSMX8x_fpna"
      }
    },
    {
      "cell_type": "code",
      "source": [
        " labels_dict = dict(filepath=[],xmin=[],xmax=[],ymin=[],ymax=[]) #create a dictionary\n",
        " for   filename in files:\n",
        "   # filename = files[0]\n",
        "    info = xet.parse(filename) # accsese to root of filename\n",
        "    root = info.getroot() # get root\n",
        "    member_object = root.find('object') #get object root\n",
        "    labels_object = member_object.find('bndbox') #from object root get bndbox root\n",
        "    xmin = int(labels_object.find('xmin').text)\n",
        "    ymin = int(labels_object.find('ymin').text)\n",
        "    xmax = int(labels_object.find('xmax').text)\n",
        "    ymax = int(labels_object.find('ymax').text)\n",
        "    #print(ymax)\n",
        "    labels_dict['filepath'].append(filename)\n",
        "    labels_dict['xmin'].append(xmin)\n",
        "    labels_dict['xmax'].append(xmax)\n",
        "    labels_dict['ymin'].append(ymin)\n",
        "    labels_dict['ymax'].append(ymax)"
      ],
      "metadata": {
        "id": "LVKvrQKhfQ2D"
      },
      "execution_count": 15,
      "outputs": []
    },
    {
      "cell_type": "code",
      "source": [
        "print(labels_dict['ymax'])"
      ],
      "metadata": {
        "colab": {
          "base_uri": "https://localhost:8080/"
        },
        "id": "E_Q43HOAg7yf",
        "outputId": "762737c6-e62b-447f-922a-00dba092ed7f"
      },
      "execution_count": 18,
      "outputs": [
        {
          "output_type": "stream",
          "name": "stdout",
          "text": [
            "[727, 350, 161, 243, 724, 197, 195, 290, 287, 257, 320, 144, 227, 402, 290, 157, 126, 278, 202, 706, 314, 754, 387, 370, 288, 165, 324, 327, 245, 271, 402, 213, 143, 286, 840, 219, 247, 513, 493, 168, 1011, 756, 221, 296, 259, 296, 275, 151, 591, 293, 148, 691, 143, 252, 347, 385, 196, 201, 249, 292, 696, 217, 209, 231, 174, 335, 295, 416, 561, 263, 556, 386, 270, 184, 243, 531, 229, 358, 317, 351, 240, 408, 432, 190, 660, 484, 344, 535, 832, 181, 423, 969, 397, 461, 59, 232, 111, 130, 169, 255, 1882, 814, 293, 229, 296, 905, 334, 203, 147, 307, 221, 244, 258, 254, 175, 173, 153, 226, 446, 371, 468, 238, 154, 967, 273, 182, 156, 183, 247, 1101, 304, 359, 540, 288, 384, 319, 258, 50, 183, 391, 141, 198, 170, 276, 224, 137, 385, 227, 343, 319, 321, 578, 281, 193, 677, 722, 462, 606, 261, 206, 751, 596, 378, 213, 290, 641, 1607, 254, 327, 327, 322, 180, 234, 259, 303, 173, 762, 291, 248, 294, 188, 188, 303, 202, 231, 1269, 676, 297, 232, 218, 314, 680, 280, 195, 295, 549, 702, 430, 212, 130, 250, 737, 297, 196, 347, 1851, 144, 332, 778, 352, 427, 338, 173, 269, 167, 232, 211, 260, 434, 274, 391, 186, 255, 238, 193]\n"
          ]
        }
      ]
    },
    {
      "cell_type": "code",
      "source": [
        "df =pd.DataFrame(labels_dict) #create dataframe"
      ],
      "metadata": {
        "id": "BAUuBDRqhLKp"
      },
      "execution_count": 20,
      "outputs": []
    },
    {
      "cell_type": "code",
      "source": [
        "df"
      ],
      "metadata": {
        "colab": {
          "base_uri": "https://localhost:8080/",
          "height": 423
        },
        "id": "SF1bJJG5hagL",
        "outputId": "e21f2ad9-9865-4cdc-a20a-69411a8ad524"
      },
      "execution_count": 21,
      "outputs": [
        {
          "output_type": "execute_result",
          "data": {
            "text/plain": [
              "                                              filepath  xmin  xmax  ymin  ymax\n",
              "0    /content/drive/MyDrive/data-test/images_labele...  1093  1396   645   727\n",
              "1    /content/drive/MyDrive/data-test/images_labele...   134   301   312   350\n",
              "2    /content/drive/MyDrive/data-test/images_labele...    31   139   128   161\n",
              "3    /content/drive/MyDrive/data-test/images_labele...   164   316   216   243\n",
              "4    /content/drive/MyDrive/data-test/images_labele...   813  1067   665   724\n",
              "..                                                 ...   ...   ...   ...   ...\n",
              "220  /content/drive/MyDrive/data-test/images_labele...    23   408   173   391\n",
              "221  /content/drive/MyDrive/data-test/images_labele...   137   352   141   186\n",
              "222  /content/drive/MyDrive/data-test/images_labele...   175   290   228   255\n",
              "223  /content/drive/MyDrive/data-test/images_labele...   563   675   207   238\n",
              "224  /content/drive/MyDrive/data-test/images_labele...   158   389   129   193\n",
              "\n",
              "[225 rows x 5 columns]"
            ],
            "text/html": [
              "\n",
              "  <div id=\"df-e3385ba2-e9d2-4558-b6cf-4da02de2a59b\" class=\"colab-df-container\">\n",
              "    <div>\n",
              "<style scoped>\n",
              "    .dataframe tbody tr th:only-of-type {\n",
              "        vertical-align: middle;\n",
              "    }\n",
              "\n",
              "    .dataframe tbody tr th {\n",
              "        vertical-align: top;\n",
              "    }\n",
              "\n",
              "    .dataframe thead th {\n",
              "        text-align: right;\n",
              "    }\n",
              "</style>\n",
              "<table border=\"1\" class=\"dataframe\">\n",
              "  <thead>\n",
              "    <tr style=\"text-align: right;\">\n",
              "      <th></th>\n",
              "      <th>filepath</th>\n",
              "      <th>xmin</th>\n",
              "      <th>xmax</th>\n",
              "      <th>ymin</th>\n",
              "      <th>ymax</th>\n",
              "    </tr>\n",
              "  </thead>\n",
              "  <tbody>\n",
              "    <tr>\n",
              "      <th>0</th>\n",
              "      <td>/content/drive/MyDrive/data-test/images_labele...</td>\n",
              "      <td>1093</td>\n",
              "      <td>1396</td>\n",
              "      <td>645</td>\n",
              "      <td>727</td>\n",
              "    </tr>\n",
              "    <tr>\n",
              "      <th>1</th>\n",
              "      <td>/content/drive/MyDrive/data-test/images_labele...</td>\n",
              "      <td>134</td>\n",
              "      <td>301</td>\n",
              "      <td>312</td>\n",
              "      <td>350</td>\n",
              "    </tr>\n",
              "    <tr>\n",
              "      <th>2</th>\n",
              "      <td>/content/drive/MyDrive/data-test/images_labele...</td>\n",
              "      <td>31</td>\n",
              "      <td>139</td>\n",
              "      <td>128</td>\n",
              "      <td>161</td>\n",
              "    </tr>\n",
              "    <tr>\n",
              "      <th>3</th>\n",
              "      <td>/content/drive/MyDrive/data-test/images_labele...</td>\n",
              "      <td>164</td>\n",
              "      <td>316</td>\n",
              "      <td>216</td>\n",
              "      <td>243</td>\n",
              "    </tr>\n",
              "    <tr>\n",
              "      <th>4</th>\n",
              "      <td>/content/drive/MyDrive/data-test/images_labele...</td>\n",
              "      <td>813</td>\n",
              "      <td>1067</td>\n",
              "      <td>665</td>\n",
              "      <td>724</td>\n",
              "    </tr>\n",
              "    <tr>\n",
              "      <th>...</th>\n",
              "      <td>...</td>\n",
              "      <td>...</td>\n",
              "      <td>...</td>\n",
              "      <td>...</td>\n",
              "      <td>...</td>\n",
              "    </tr>\n",
              "    <tr>\n",
              "      <th>220</th>\n",
              "      <td>/content/drive/MyDrive/data-test/images_labele...</td>\n",
              "      <td>23</td>\n",
              "      <td>408</td>\n",
              "      <td>173</td>\n",
              "      <td>391</td>\n",
              "    </tr>\n",
              "    <tr>\n",
              "      <th>221</th>\n",
              "      <td>/content/drive/MyDrive/data-test/images_labele...</td>\n",
              "      <td>137</td>\n",
              "      <td>352</td>\n",
              "      <td>141</td>\n",
              "      <td>186</td>\n",
              "    </tr>\n",
              "    <tr>\n",
              "      <th>222</th>\n",
              "      <td>/content/drive/MyDrive/data-test/images_labele...</td>\n",
              "      <td>175</td>\n",
              "      <td>290</td>\n",
              "      <td>228</td>\n",
              "      <td>255</td>\n",
              "    </tr>\n",
              "    <tr>\n",
              "      <th>223</th>\n",
              "      <td>/content/drive/MyDrive/data-test/images_labele...</td>\n",
              "      <td>563</td>\n",
              "      <td>675</td>\n",
              "      <td>207</td>\n",
              "      <td>238</td>\n",
              "    </tr>\n",
              "    <tr>\n",
              "      <th>224</th>\n",
              "      <td>/content/drive/MyDrive/data-test/images_labele...</td>\n",
              "      <td>158</td>\n",
              "      <td>389</td>\n",
              "      <td>129</td>\n",
              "      <td>193</td>\n",
              "    </tr>\n",
              "  </tbody>\n",
              "</table>\n",
              "<p>225 rows × 5 columns</p>\n",
              "</div>\n",
              "    <div class=\"colab-df-buttons\">\n",
              "\n",
              "  <div class=\"colab-df-container\">\n",
              "    <button class=\"colab-df-convert\" onclick=\"convertToInteractive('df-e3385ba2-e9d2-4558-b6cf-4da02de2a59b')\"\n",
              "            title=\"Convert this dataframe to an interactive table.\"\n",
              "            style=\"display:none;\">\n",
              "\n",
              "  <svg xmlns=\"http://www.w3.org/2000/svg\" height=\"24px\" viewBox=\"0 -960 960 960\">\n",
              "    <path d=\"M120-120v-720h720v720H120Zm60-500h600v-160H180v160Zm220 220h160v-160H400v160Zm0 220h160v-160H400v160ZM180-400h160v-160H180v160Zm440 0h160v-160H620v160ZM180-180h160v-160H180v160Zm440 0h160v-160H620v160Z\"/>\n",
              "  </svg>\n",
              "    </button>\n",
              "\n",
              "  <style>\n",
              "    .colab-df-container {\n",
              "      display:flex;\n",
              "      gap: 12px;\n",
              "    }\n",
              "\n",
              "    .colab-df-convert {\n",
              "      background-color: #E8F0FE;\n",
              "      border: none;\n",
              "      border-radius: 50%;\n",
              "      cursor: pointer;\n",
              "      display: none;\n",
              "      fill: #1967D2;\n",
              "      height: 32px;\n",
              "      padding: 0 0 0 0;\n",
              "      width: 32px;\n",
              "    }\n",
              "\n",
              "    .colab-df-convert:hover {\n",
              "      background-color: #E2EBFA;\n",
              "      box-shadow: 0px 1px 2px rgba(60, 64, 67, 0.3), 0px 1px 3px 1px rgba(60, 64, 67, 0.15);\n",
              "      fill: #174EA6;\n",
              "    }\n",
              "\n",
              "    .colab-df-buttons div {\n",
              "      margin-bottom: 4px;\n",
              "    }\n",
              "\n",
              "    [theme=dark] .colab-df-convert {\n",
              "      background-color: #3B4455;\n",
              "      fill: #D2E3FC;\n",
              "    }\n",
              "\n",
              "    [theme=dark] .colab-df-convert:hover {\n",
              "      background-color: #434B5C;\n",
              "      box-shadow: 0px 1px 3px 1px rgba(0, 0, 0, 0.15);\n",
              "      filter: drop-shadow(0px 1px 2px rgba(0, 0, 0, 0.3));\n",
              "      fill: #FFFFFF;\n",
              "    }\n",
              "  </style>\n",
              "\n",
              "    <script>\n",
              "      const buttonEl =\n",
              "        document.querySelector('#df-e3385ba2-e9d2-4558-b6cf-4da02de2a59b button.colab-df-convert');\n",
              "      buttonEl.style.display =\n",
              "        google.colab.kernel.accessAllowed ? 'block' : 'none';\n",
              "\n",
              "      async function convertToInteractive(key) {\n",
              "        const element = document.querySelector('#df-e3385ba2-e9d2-4558-b6cf-4da02de2a59b');\n",
              "        const dataTable =\n",
              "          await google.colab.kernel.invokeFunction('convertToInteractive',\n",
              "                                                    [key], {});\n",
              "        if (!dataTable) return;\n",
              "\n",
              "        const docLinkHtml = 'Like what you see? Visit the ' +\n",
              "          '<a target=\"_blank\" href=https://colab.research.google.com/notebooks/data_table.ipynb>data table notebook</a>'\n",
              "          + ' to learn more about interactive tables.';\n",
              "        element.innerHTML = '';\n",
              "        dataTable['output_type'] = 'display_data';\n",
              "        await google.colab.output.renderOutput(dataTable, element);\n",
              "        const docLink = document.createElement('div');\n",
              "        docLink.innerHTML = docLinkHtml;\n",
              "        element.appendChild(docLink);\n",
              "      }\n",
              "    </script>\n",
              "  </div>\n",
              "\n",
              "\n",
              "    <div id=\"df-0caa1d23-16c7-4bb0-9c17-e283cb8b1a8e\">\n",
              "      <button class=\"colab-df-quickchart\" onclick=\"quickchart('df-0caa1d23-16c7-4bb0-9c17-e283cb8b1a8e')\"\n",
              "                title=\"Suggest charts\"\n",
              "                style=\"display:none;\">\n",
              "\n",
              "<svg xmlns=\"http://www.w3.org/2000/svg\" height=\"24px\"viewBox=\"0 0 24 24\"\n",
              "     width=\"24px\">\n",
              "    <g>\n",
              "        <path d=\"M19 3H5c-1.1 0-2 .9-2 2v14c0 1.1.9 2 2 2h14c1.1 0 2-.9 2-2V5c0-1.1-.9-2-2-2zM9 17H7v-7h2v7zm4 0h-2V7h2v10zm4 0h-2v-4h2v4z\"/>\n",
              "    </g>\n",
              "</svg>\n",
              "      </button>\n",
              "\n",
              "<style>\n",
              "  .colab-df-quickchart {\n",
              "      --bg-color: #E8F0FE;\n",
              "      --fill-color: #1967D2;\n",
              "      --hover-bg-color: #E2EBFA;\n",
              "      --hover-fill-color: #174EA6;\n",
              "      --disabled-fill-color: #AAA;\n",
              "      --disabled-bg-color: #DDD;\n",
              "  }\n",
              "\n",
              "  [theme=dark] .colab-df-quickchart {\n",
              "      --bg-color: #3B4455;\n",
              "      --fill-color: #D2E3FC;\n",
              "      --hover-bg-color: #434B5C;\n",
              "      --hover-fill-color: #FFFFFF;\n",
              "      --disabled-bg-color: #3B4455;\n",
              "      --disabled-fill-color: #666;\n",
              "  }\n",
              "\n",
              "  .colab-df-quickchart {\n",
              "    background-color: var(--bg-color);\n",
              "    border: none;\n",
              "    border-radius: 50%;\n",
              "    cursor: pointer;\n",
              "    display: none;\n",
              "    fill: var(--fill-color);\n",
              "    height: 32px;\n",
              "    padding: 0;\n",
              "    width: 32px;\n",
              "  }\n",
              "\n",
              "  .colab-df-quickchart:hover {\n",
              "    background-color: var(--hover-bg-color);\n",
              "    box-shadow: 0 1px 2px rgba(60, 64, 67, 0.3), 0 1px 3px 1px rgba(60, 64, 67, 0.15);\n",
              "    fill: var(--button-hover-fill-color);\n",
              "  }\n",
              "\n",
              "  .colab-df-quickchart-complete:disabled,\n",
              "  .colab-df-quickchart-complete:disabled:hover {\n",
              "    background-color: var(--disabled-bg-color);\n",
              "    fill: var(--disabled-fill-color);\n",
              "    box-shadow: none;\n",
              "  }\n",
              "\n",
              "  .colab-df-spinner {\n",
              "    border: 2px solid var(--fill-color);\n",
              "    border-color: transparent;\n",
              "    border-bottom-color: var(--fill-color);\n",
              "    animation:\n",
              "      spin 1s steps(1) infinite;\n",
              "  }\n",
              "\n",
              "  @keyframes spin {\n",
              "    0% {\n",
              "      border-color: transparent;\n",
              "      border-bottom-color: var(--fill-color);\n",
              "      border-left-color: var(--fill-color);\n",
              "    }\n",
              "    20% {\n",
              "      border-color: transparent;\n",
              "      border-left-color: var(--fill-color);\n",
              "      border-top-color: var(--fill-color);\n",
              "    }\n",
              "    30% {\n",
              "      border-color: transparent;\n",
              "      border-left-color: var(--fill-color);\n",
              "      border-top-color: var(--fill-color);\n",
              "      border-right-color: var(--fill-color);\n",
              "    }\n",
              "    40% {\n",
              "      border-color: transparent;\n",
              "      border-right-color: var(--fill-color);\n",
              "      border-top-color: var(--fill-color);\n",
              "    }\n",
              "    60% {\n",
              "      border-color: transparent;\n",
              "      border-right-color: var(--fill-color);\n",
              "    }\n",
              "    80% {\n",
              "      border-color: transparent;\n",
              "      border-right-color: var(--fill-color);\n",
              "      border-bottom-color: var(--fill-color);\n",
              "    }\n",
              "    90% {\n",
              "      border-color: transparent;\n",
              "      border-bottom-color: var(--fill-color);\n",
              "    }\n",
              "  }\n",
              "</style>\n",
              "\n",
              "      <script>\n",
              "        async function quickchart(key) {\n",
              "          const quickchartButtonEl =\n",
              "            document.querySelector('#' + key + ' button');\n",
              "          quickchartButtonEl.disabled = true;  // To prevent multiple clicks.\n",
              "          quickchartButtonEl.classList.add('colab-df-spinner');\n",
              "          try {\n",
              "            const charts = await google.colab.kernel.invokeFunction(\n",
              "                'suggestCharts', [key], {});\n",
              "          } catch (error) {\n",
              "            console.error('Error during call to suggestCharts:', error);\n",
              "          }\n",
              "          quickchartButtonEl.classList.remove('colab-df-spinner');\n",
              "          quickchartButtonEl.classList.add('colab-df-quickchart-complete');\n",
              "        }\n",
              "        (() => {\n",
              "          let quickchartButtonEl =\n",
              "            document.querySelector('#df-0caa1d23-16c7-4bb0-9c17-e283cb8b1a8e button');\n",
              "          quickchartButtonEl.style.display =\n",
              "            google.colab.kernel.accessAllowed ? 'block' : 'none';\n",
              "        })();\n",
              "      </script>\n",
              "    </div>\n",
              "    </div>\n",
              "  </div>\n"
            ],
            "application/vnd.google.colaboratory.intrinsic+json": {
              "type": "dataframe",
              "variable_name": "df",
              "summary": "{\n  \"name\": \"df\",\n  \"rows\": 225,\n  \"fields\": [\n    {\n      \"column\": \"filepath\",\n      \"properties\": {\n        \"dtype\": \"string\",\n        \"num_unique_values\": 225,\n        \"samples\": [\n          \"/content/drive/MyDrive/data-test/images_labeled/N108.xml\",\n          \"/content/drive/MyDrive/data-test/images_labeled/N58.xml\",\n          \"/content/drive/MyDrive/data-test/images_labeled/N217.xml\"\n        ],\n        \"semantic_type\": \"\",\n        \"description\": \"\"\n      }\n    },\n    {\n      \"column\": \"xmin\",\n      \"properties\": {\n        \"dtype\": \"number\",\n        \"std\": 272,\n        \"min\": 1,\n        \"max\": 1804,\n        \"num_unique_values\": 181,\n        \"samples\": [\n          532,\n          150,\n          189\n        ],\n        \"semantic_type\": \"\",\n        \"description\": \"\"\n      }\n    },\n    {\n      \"column\": \"xmax\",\n      \"properties\": {\n        \"dtype\": \"number\",\n        \"std\": 364,\n        \"min\": 94,\n        \"max\": 2493,\n        \"num_unique_values\": 187,\n        \"samples\": [\n          675,\n          343,\n          106\n        ],\n        \"semantic_type\": \"\",\n        \"description\": \"\"\n      }\n    },\n    {\n      \"column\": \"ymin\",\n      \"properties\": {\n        \"dtype\": \"number\",\n        \"std\": 243,\n        \"min\": 2,\n        \"max\": 1734,\n        \"num_unique_values\": 178,\n        \"samples\": [\n          669,\n          548,\n          487\n        ],\n        \"semantic_type\": \"\",\n        \"description\": \"\"\n      }\n    },\n    {\n      \"column\": \"ymax\",\n      \"properties\": {\n        \"dtype\": \"number\",\n        \"std\": 261,\n        \"min\": 50,\n        \"max\": 1882,\n        \"num_unique_values\": 183,\n        \"samples\": [\n          314,\n          259,\n          248\n        ],\n        \"semantic_type\": \"\",\n        \"description\": \"\"\n      }\n    }\n  ]\n}"
            }
          },
          "metadata": {},
          "execution_count": 21
        }
      ]
    },
    {
      "cell_type": "code",
      "source": [
        "df.to_csv('labels.csv',index=False) #save datafrme with csv format"
      ],
      "metadata": {
        "id": "HUDKhbi3hfKw"
      },
      "execution_count": 22,
      "outputs": []
    },
    {
      "cell_type": "code",
      "source": [],
      "metadata": {
        "id": "4h6Lyr0th_yU"
      },
      "execution_count": null,
      "outputs": []
    }
  ]
}